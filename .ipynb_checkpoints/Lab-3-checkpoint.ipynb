import numpy as np
import matplotlib.pyplot as plt
from mpl_toolkits.mplot3d import Axes3D
from ipywidgets import interact, FloatSlider, Dropdown
from math import cos, sin, radians

# --- Transformation functions (same as before, trimmed a bit) ---
def translation(tx, ty, tz):
    M = np.eye(4)
    M[0, 3], M[1, 3], M[2, 3] = tx, ty, tz
    return M

def scaling(sx, sy, sz):
    return np.diag([sx, sy, sz, 1])

def rotation_x(angle):
    a = radians(angle)
    M = np.eye(4)
    M[1,1], M[1,2], M[2,1], M[2,2] = cos(a), -sin(a), sin(a), cos(a)
    return M

def rotation_y(angle):
    a = radians(angle)
    M = np.eye(4)
    M[0,0], M[0,2], M[2,0], M[2,2] = cos(a), sin(a), -sin(a), cos(a)
    return M

def rotation_z(angle):
    a = radians(angle)
    M = np.eye(4)
    M[0,0], M[0,1], M[1,0], M[1,1] = cos(a), -sin(a), sin(a), cos(a)
    return M

def reflection(plane):
    M = np.eye(4)
    if plane == "xy": M[2,2] = -1
    if plane == "yz": M[0,0] = -1
    if plane == "xz": M[1,1] = -1
    return M

def shearing(shxy, shxz, shyx, shyz, shzx, shzy):
    M = np.eye(4)
    M[0,1], M[0,2] = shxy, shxz
    M[1,0], M[1,2] = shyx, shyz
    M[2,0], M[2,1] = shzx, shzy
    return M

def apply_transform(points, matrix):
    pts = np.hstack([points, np.ones((points.shape[0],1))])
    trans = (matrix @ pts.T).T
    return trans[:,:3]

def cube(size=2.0):
    s = size/2
    vertices = np.array([
        [-s,-s,-s],[ s,-s,-s],[ s, s,-s],[-s, s,-s],
        [-s,-s, s],[ s,-s, s],[ s, s, s],[-s, s, s]
    ])
    faces = [[0,1,2,3],[4,5,6,7],[0,1,5,4],
             [2,3,7,6],[1,2,6,5],[0,3,7,4]]
    return vertices, faces

# --- Interactive plot ---
orig_vertices, faces = cube()

def update(tx=0,ty=0,tz=0,
           sx=1,sy=1,sz=1,
           rx=0,ry=0,rz=0,
           plane="none",
           shxy=0,shxz=0,shyx=0,shyz=0,shzx=0,shzy=0):
    
    M = translation(tx,ty,tz) @ scaling(sx,sy,sz) @ rotation_x(rx) @ rotation_y(ry) @ rotation_z(rz)
    if plane!="none":
        M = reflection(plane) @ M
    M = shearing(shxy,shxz,shyx,shyz,shzx,shzy) @ M
    
    tv = apply_transform(orig_vertices,M)
    
    fig = plt.figure(figsize=(6,6))
    ax = fig.add_subplot(111,projection="3d")
    ax.set_xlim(-5,5); ax.set_ylim(-5,5); ax.set_zlim(-5,5)
    ax.set_xlabel("X"); ax.set_ylabel("Y"); ax.set_zlabel("Z")
    for f in faces:
        pts = np.vstack([tv[f], tv[f[0]]])
        ax.plot(pts[:,0], pts[:,1], pts[:,2], color="b")
    plt.show()

# Create sliders
interact(update,
         tx=FloatSlider(min=-5,max=5,step=0.5,value=0),
         ty=FloatSlider(min=-5,max=5,step=0.5,value=0),
         tz=FloatSlider(min=-5,max=5,step=0.5,value=0),
         sx=FloatSlider(min=0.1,max=3,step=0.1,value=1),
         sy=FloatSlider(min=0.1,max=3,step=0.1,value=1),
         sz=FloatSlider(min=0.1,max=3,step=0.1,value=1),
         rx=FloatSlider(min=0,max=360,step=5,value=0),
         ry=FloatSlider(min=0,max=360,step=5,value=0),
         rz=FloatSlider(min=0,max=360,step=5,value=0),
         plane=Dropdown(options=["none","xy","yz","xz"],value="none"),
         shxy=FloatSlider(min=-1,max=1,step=0.1,value=0),
         shxz=FloatSlider(min=-1,max=1,step=0.1,value=0),
         shyx=FloatSlider(min=-1,max=1,step=0.1,value=0),
         shyz=FloatSlider(min=-1,max=1,step=0.1,value=0),
         shzx=FloatSlider(min=-1,max=1,step=0.1,value=0),
         shzy=FloatSlider(min=-1,max=1,step=0.1,value=0));
