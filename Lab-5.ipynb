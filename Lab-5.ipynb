import matplotlib.pyplot as plt

def dda(x1, y1, x2, y2):
    points = []

    dx = x2 - x1
    dy = y2 - y1

    steps = int(max(abs(dx), abs(dy)))

    x_inc = dx / steps
    y_inc = dy / steps

    x = x1
    y = y1

    for _ in range(steps + 1):
        points.append((round(x), round(y)))
        x += x_inc
        y += y_inc

    return points

def bresenham(x1, y1, x2, y2):
    points = []

    dx = abs(x2 - x1)
    dy = abs(y2 - y1)

    x, y = x1, y1

    sx = 1 if x2 > x1 else -1
    sy = 1 if y2 > y1 else -1

    if dy <= dx:
        p = 2 * dy - dx
        for _ in range(dx + 1):
            points.append((x, y))
            x += sx
            if p >= 0:
                y += sy
                p -= 2 * dx
            p += 2 * dy
    else:
        p = 2 * dx - dy
        for _ in range(dy + 1):
            points.append((x, y))
            y += sy
            if p >= 0:
                x += sx
                p -= 2 * dy
            p += 2 * dx

    return points

# Input from user
x1 = int(input("Enter x1: "))
y1 = int(input("Enter y1: "))
x2 = int(input("Enter x2: "))
y2 = int(input("Enter y2: "))

# Generate line points for both algorithms
dda_points = dda(x1, y1, x2, y2)
bresenham_points = bresenham(x1, y1, x2, y2)

# Output points
print("\nDDA Points:")
for p in dda_points:
    print(p)

print("\nBresenham Points:")
for p in bresenham_points:
    print(p)

# Plotting both lines for comparison
plt.figure(figsize=(8, 6))

# DDA Line (Blue)
dda_x = [p[0] for p in dda_points]
dda_y = [p[1] for p in dda_points]
plt.plot(dda_x, dda_y, marker='o', label="DDA Line", color="blue", linestyle="--")

# Bresenham Line (Red)
bresenham_x = [p[0] for p in bresenham_points]
bresenham_y = [p[1] for p in bresenham_points]
plt.plot(bresenham_x, bresenham_y, marker='x', label="Bresenham Line", color="red", linestyle=":")

# Adding labels, title, and legend
plt.title("Comparison of DDA and Bresenham Line Drawing Algorithms")
plt.xlabel("X")
plt.ylabel("Y")
plt.grid(True)
plt.legend()

# Set the aspect ratio to be equal so the lines appear correctly
plt.gca().set_aspect('equal', adjustable='box')
plt.show()
